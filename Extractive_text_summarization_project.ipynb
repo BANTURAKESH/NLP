{
  "nbformat": 4,
  "nbformat_minor": 0,
  "metadata": {
    "colab": {
      "provenance": []
    },
    "kernelspec": {
      "name": "python3",
      "display_name": "Python 3"
    },
    "language_info": {
      "name": "python"
    },
    "accelerator": "GPU",
    "gpuClass": "standard"
  },
  "cells": [
    {
      "cell_type": "code",
      "source": [],
      "metadata": {
        "id": "KpdYX_mDq24X"
      },
      "execution_count": null,
      "outputs": []
    },
    {
      "cell_type": "markdown",
      "source": [
        "# Extractive text summarization project.\n",
        "\n",
        "* Extractive summarization aims at identifying the salient information that is then extracted and grouped together to form a concise summary. \n",
        "\n",
        "* Abstractive summary generation rewrites the entire document by building internal semantic representation, and then a summary is created using natural language processing."
      ],
      "metadata": {
        "id": "dvu9LqCqP3ns"
      }
    },
    {
      "cell_type": "code",
      "source": [],
      "metadata": {
        "id": "TUueYCw3q2yn"
      },
      "execution_count": null,
      "outputs": []
    },
    {
      "cell_type": "code",
      "source": [
        "from sentence_transformers import SentenceTransformer\n",
        "\n",
        "\n"
      ],
      "metadata": {
        "id": "JNcy-sKkq2vc"
      },
      "execution_count": null,
      "outputs": []
    },
    {
      "cell_type": "code",
      "source": [
        "%pip install LexRank\n"
      ],
      "metadata": {
        "colab": {
          "base_uri": "https://localhost:8080/"
        },
        "id": "thHBvrFmS1gH",
        "outputId": "9629f94a-0c45-45cf-85d3-02278f7d3691"
      },
      "execution_count": null,
      "outputs": [
        {
          "output_type": "stream",
          "name": "stdout",
          "text": [
            "Looking in indexes: https://pypi.org/simple, https://us-python.pkg.dev/colab-wheels/public/simple/\n",
            "Collecting LexRank\n",
            "  Downloading lexrank-0.1.0-py3-none-any.whl (69 kB)\n",
            "\u001b[2K     \u001b[90m━━━━━━━━━━━━━━━━━━━━━━━━━━━━━━━━━━━━━━━━\u001b[0m \u001b[32m69.8/69.8 KB\u001b[0m \u001b[31m5.9 MB/s\u001b[0m eta \u001b[36m0:00:00\u001b[0m\n",
            "\u001b[?25hRequirement already satisfied: regex>=2017.11.9 in /usr/local/lib/python3.8/dist-packages (from LexRank) (2022.6.2)\n",
            "Requirement already satisfied: pyrsistent>=0.14.0 in /usr/local/lib/python3.8/dist-packages (from LexRank) (0.19.3)\n",
            "Requirement already satisfied: scipy>=0.19.0 in /usr/local/lib/python3.8/dist-packages (from LexRank) (1.7.3)\n",
            "Requirement already satisfied: numpy>=1.13.3 in /usr/local/lib/python3.8/dist-packages (from LexRank) (1.22.4)\n",
            "Collecting urlextract>=0.7\n",
            "  Downloading urlextract-1.8.0-py3-none-any.whl (21 kB)\n",
            "Collecting path.py>=10.5\n",
            "  Downloading path.py-12.5.0-py3-none-any.whl (2.3 kB)\n",
            "Collecting path\n",
            "  Downloading path-16.6.0-py3-none-any.whl (26 kB)\n",
            "Requirement already satisfied: idna in /usr/local/lib/python3.8/dist-packages (from urlextract>=0.7->LexRank) (2.10)\n",
            "Requirement already satisfied: filelock in /usr/local/lib/python3.8/dist-packages (from urlextract>=0.7->LexRank) (3.9.0)\n",
            "Requirement already satisfied: platformdirs in /usr/local/lib/python3.8/dist-packages (from urlextract>=0.7->LexRank) (3.0.0)\n",
            "Collecting uritools\n",
            "  Downloading uritools-4.0.1-py3-none-any.whl (10 kB)\n",
            "Installing collected packages: uritools, path, urlextract, path.py, LexRank\n",
            "Successfully installed LexRank-0.1.0 path-16.6.0 path.py-12.5.0 uritools-4.0.1 urlextract-1.8.0\n"
          ]
        }
      ]
    },
    {
      "cell_type": "code",
      "source": [
        " \n"
      ],
      "metadata": {
        "id": "P7XR5GriUD_m"
      },
      "execution_count": null,
      "outputs": []
    },
    {
      "cell_type": "code",
      "source": [
        "from LexRank import degree_centrality_scores"
      ],
      "metadata": {
        "id": "IrNsgt7ZStVm"
      },
      "execution_count": null,
      "outputs": []
    },
    {
      "cell_type": "code",
      "source": [
        "import nltk\n",
        "nltk.download('punkt')\n",
        "import numpy as np\n"
      ],
      "metadata": {
        "id": "Hb4B-X9mq2ls",
        "colab": {
          "base_uri": "https://localhost:8080/"
        },
        "outputId": "98f636b5-fc5e-4c9c-ac21-4ddb4b8d61fd"
      },
      "execution_count": null,
      "outputs": [
        {
          "output_type": "stream",
          "name": "stderr",
          "text": [
            "[nltk_data] Downloading package punkt to /root/nltk_data...\n",
            "[nltk_data]   Package punkt is already up-to-date!\n"
          ]
        }
      ]
    },
    {
      "cell_type": "code",
      "source": [
        " model = SentenceTransformer('all-MiniLM-L6-v2')"
      ],
      "metadata": {
        "id": "9etICTQvsOWy"
      },
      "execution_count": null,
      "outputs": []
    },
    {
      "cell_type": "code",
      "source": [
        "document = \"\"\"\n",
        "The technology at the heart of the most innovative progress in health care artificial intelligence (AI) is in a subdomain called machine learning (ML), which describes the use of software algorithms to identify patterns in very large datasets. ML has driven much of the progress of health care AI over the past 5 years, demonstrating impressive results in clinical decision support, patient monitoring and coaching, surgical assistance, patient care, and systems management. Clinicians in the near future will find themselves working with information networks on a scale well beyond the capacity of human beings to grasp, thereby necessitating the use of intelligent machines to analyze and interpret the complex interactions between data, patients, and clinical decision makers. However, as this technology becomes more powerful, it also becomes less transparent, and algorithmic decisions are therefore progressively more opaque. This is problematic because computers will increasingly be asked for answers to clinical questions that have no single right answer and that are open-ended, subjective, and value laden. As ML continues to make important contributions in a variety of clinical domains, clinicians will need to have a deeper understanding of the design, implementation, and evaluation of ML to ensure that current health care is not overly influenced by the agenda of technology entrepreneurs and venture capitalists. The aim of this article is to provide a nontechnical introduction to the concept of ML in the context of health care, the challenges that arise, and the resulting implications for clinicians.\n",
        "\"\"\""
      ],
      "metadata": {
        "id": "HmMTRciPT9Fv"
      },
      "execution_count": null,
      "outputs": []
    },
    {
      "cell_type": "code",
      "source": [
        "#Split the document into sentences\n",
        "sentences = nltk.sent_tokenize(document)\n",
        "print(\"Num sentences:\", len(sentences))"
      ],
      "metadata": {
        "colab": {
          "base_uri": "https://localhost:8080/"
        },
        "id": "Hh3gYOUoYipj",
        "outputId": "96112814-8060-4bfd-b9bc-fb9ec21f22ff"
      },
      "execution_count": null,
      "outputs": [
        {
          "output_type": "stream",
          "name": "stdout",
          "text": [
            "Num sentences: 7\n"
          ]
        }
      ]
    },
    {
      "cell_type": "code",
      "source": [
        " "
      ],
      "metadata": {
        "id": "ta4zemD8WxA1"
      },
      "execution_count": null,
      "outputs": []
    },
    {
      "cell_type": "code",
      "source": [
        " "
      ],
      "metadata": {
        "id": "KhdYmPwRW4lM"
      },
      "execution_count": null,
      "outputs": []
    },
    {
      "cell_type": "code",
      "source": [
        "#Compute the sentence embeddings\n",
        "embeddings = model.encode(sentences, convert_to_tensor=True)\n",
        "embeddings"
      ],
      "metadata": {
        "colab": {
          "base_uri": "https://localhost:8080/"
        },
        "id": "92ySPO_bW-oz",
        "outputId": "d10f6a16-23e3-42a2-e1df-f85766fd712f"
      },
      "execution_count": null,
      "outputs": [
        {
          "output_type": "execute_result",
          "data": {
            "text/plain": [
              "tensor([[-0.0242,  0.0052, -0.0049,  ...,  0.0052,  0.0987, -0.0198],\n",
              "        [-0.0220, -0.0485,  0.0473,  ..., -0.0291,  0.0181,  0.0178],\n",
              "        [-0.0115, -0.0389, -0.0047,  ...,  0.0634,  0.0042, -0.0572],\n",
              "        ...,\n",
              "        [-0.0177,  0.0239, -0.0424,  ...,  0.0183,  0.0302,  0.0132],\n",
              "        [ 0.0003, -0.0153, -0.0098,  ...,  0.0094,  0.0676, -0.0611],\n",
              "        [ 0.0379, -0.0280, -0.0103,  ...,  0.0116,  0.0799, -0.0324]],\n",
              "       device='cuda:0')"
            ]
          },
          "metadata": {},
          "execution_count": 154
        }
      ]
    },
    {
      "cell_type": "code",
      "source": [
        "\n",
        "#Compute the pair-wise cosine similarities\n",
        "cos_scores = util.cos_sim(embeddings, embeddings).cpu().numpy()\n",
        "cos_scores"
      ],
      "metadata": {
        "colab": {
          "base_uri": "https://localhost:8080/"
        },
        "id": "7ACX1n4pXPK1",
        "outputId": "34025efd-512e-4886-bf7c-6a831bfd2848"
      },
      "execution_count": null,
      "outputs": [
        {
          "output_type": "execute_result",
          "data": {
            "text/plain": [
              "array([[1.0000001 , 0.7872413 , 0.5536606 , 0.21243115, 0.31392062,\n",
              "        0.6049767 , 0.5642389 ],\n",
              "       [0.7872413 , 1.        , 0.5510065 , 0.2097673 , 0.34670934,\n",
              "        0.70290637, 0.628978  ],\n",
              "       [0.5536606 , 0.5510065 , 1.        , 0.2658146 , 0.472893  ,\n",
              "        0.5480004 , 0.38552487],\n",
              "       [0.21243115, 0.2097673 , 0.2658146 , 0.99999994, 0.18209803,\n",
              "        0.22326922, 0.09074488],\n",
              "       [0.31392062, 0.34670934, 0.472893  , 0.18209803, 1.0000001 ,\n",
              "        0.41686526, 0.29272667],\n",
              "       [0.6049767 , 0.70290637, 0.5480004 , 0.22326922, 0.41686526,\n",
              "        0.99999994, 0.70623785],\n",
              "       [0.5642389 , 0.628978  , 0.38552487, 0.09074488, 0.29272667,\n",
              "        0.70623785, 1.0000001 ]], dtype=float32)"
            ]
          },
          "metadata": {},
          "execution_count": 155
        }
      ]
    },
    {
      "cell_type": "code",
      "source": [
        "#Compute the centrality for each sentence\n",
        "centrality_scores = degree_centrality_scores(cos_scores, threshold=None)\n",
        "centrality_scores\n"
      ],
      "metadata": {
        "colab": {
          "base_uri": "https://localhost:8080/"
        },
        "id": "1w_L_qJmXfLn",
        "outputId": "94dfb131-2c55-4e25-b8c0-85775436895b"
      },
      "execution_count": null,
      "outputs": [
        {
          "output_type": "execute_result",
          "data": {
            "text/plain": [
              "array([1.12481091, 1.17779551, 1.05247874, 0.60863274, 0.84301207,\n",
              "       1.17100933, 1.02225816])"
            ]
          },
          "metadata": {},
          "execution_count": 157
        }
      ]
    },
    {
      "cell_type": "code",
      "source": [
        "\n",
        "#We argsort so that the first element is the sentence with the highest score\n",
        "most_central_sentence_indices = np.argsort(-centrality_scores)\n",
        "most_central_sentence_indices"
      ],
      "metadata": {
        "colab": {
          "base_uri": "https://localhost:8080/"
        },
        "id": "wcCw59GaXv8t",
        "outputId": "8b799ba1-1b40-41ae-a9e3-0887b492006e"
      },
      "execution_count": null,
      "outputs": [
        {
          "output_type": "execute_result",
          "data": {
            "text/plain": [
              "array([1, 5, 0, 2, 6, 4, 3])"
            ]
          },
          "metadata": {},
          "execution_count": 158
        }
      ]
    },
    {
      "cell_type": "code",
      "source": [
        " \n"
      ],
      "metadata": {
        "id": "Pyqfa_CVY1h9"
      },
      "execution_count": null,
      "outputs": []
    },
    {
      "cell_type": "code",
      "source": [
        "#Print the 5 sentences with the highest scores\n",
        "print(\"\\n\\nSummary:\")\n",
        "for idx in most_central_sentence_indices[:2]:\n",
        "    print(sentences[idx].strip())"
      ],
      "metadata": {
        "colab": {
          "base_uri": "https://localhost:8080/"
        },
        "id": "TXCHd3pjY6Hw",
        "outputId": "5befc8f2-804b-417f-edd5-67742382d291"
      },
      "execution_count": null,
      "outputs": [
        {
          "output_type": "stream",
          "name": "stdout",
          "text": [
            "\n",
            "\n",
            "Summary:\n",
            "ML has driven much of the progress of health care AI over the past 5 years, demonstrating impressive results in clinical decision support, patient monitoring and coaching, surgical assistance, patient care, and systems management.\n",
            "As ML continues to make important contributions in a variety of clinical domains, clinicians will need to have a deeper understanding of the design, implementation, and evaluation of ML to ensure that current health care is not overly influenced by the agenda of technology entrepreneurs and venture capitalists.\n"
          ]
        }
      ]
    },
    {
      "cell_type": "code",
      "source": [],
      "metadata": {
        "id": "4UtBoVLlZPyV"
      },
      "execution_count": null,
      "outputs": []
    }
  ]
}